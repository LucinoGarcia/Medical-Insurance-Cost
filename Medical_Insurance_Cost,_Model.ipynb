{
  "nbformat": 4,
  "nbformat_minor": 0,
  "metadata": {
    "colab": {
      "provenance": []
    },
    "kernelspec": {
      "name": "python3",
      "display_name": "Python 3"
    },
    "language_info": {
      "name": "python"
    }
  },
  "cells": [
    {
      "cell_type": "code",
      "execution_count": 1,
      "metadata": {
        "colab": {
          "base_uri": "https://localhost:8080/"
        },
        "id": "R2_P7oZ4CmmV",
        "outputId": "0e75ea85-8a62-4fa1-bce1-4dd0b10e36db"
      },
      "outputs": [
        {
          "output_type": "stream",
          "name": "stdout",
          "text": [
            "Drive already mounted at /content/drive; to attempt to forcibly remount, call drive.mount(\"/content/drive\", force_remount=True).\n"
          ]
        }
      ],
      "source": [
        "import pandas as pd\n",
        "import numpy as np\n",
        "import matplotlib.pyplot as plt\n",
        "import seaborn as sns\n",
        "\n",
        "from sklearn.model_selection import train_test_split\n",
        "from sklearn.linear_model import LinearRegression\n",
        "from sklearn.tree import DecisionTreeRegressor\n",
        "from sklearn.ensemble import RandomForestRegressor\n",
        "from sklearn.compose import ColumnTransformer\n",
        "from sklearn.preprocessing import OneHotEncoder\n",
        "from sklearn.pipeline import Pipeline\n",
        "from sklearn.metrics import mean_squared_error\n",
        "\n",
        "\n",
        "from google.colab import drive\n",
        "drive.mount('/content/drive')"
      ]
    },
    {
      "cell_type": "markdown",
      "source": [
        "# Model Creation"
      ],
      "metadata": {
        "id": "chxEnA2Y5bnj"
      }
    },
    {
      "cell_type": "code",
      "source": [
        "RawData = pd.read_csv(\"/content/drive/MyDrive/Medical Insurance Cost/medical_insurance.csv\")\n",
        "y = RawData['charges']\n",
        "x = RawData.drop(columns=['charges'])\n",
        "\n",
        "x_train, x_test, y_train, y_test = train_test_split(x, y, test_size=0.2, random_state=125)\n",
        "\n",
        "numeric_features = ['age', 'bmi', 'children']\n",
        "categorical_features = ['sex', 'smoker', 'region']\n",
        "\n",
        "preprocessor = ColumnTransformer(\n",
        "    transformers=[('num', 'passthrough', numeric_features), ('cat', OneHotEncoder(), categorical_features)])"
      ],
      "metadata": {
        "id": "ub81MoKZtn0N"
      },
      "execution_count": 2,
      "outputs": []
    },
    {
      "cell_type": "code",
      "source": [
        "# Linear Regression\n",
        "\n",
        "linear_regression_model = Pipeline([('preprocessor', preprocessor), ('regressor', LinearRegression())])\n",
        "linear_regression_model.fit(x_train, y_train)\n",
        "y_pred_linear_regression = linear_regression_model.predict(x_test)\n",
        "mse_linear_regression = mean_squared_error(y_test, y_pred_linear_regression)"
      ],
      "metadata": {
        "id": "hXxlVTgpuwaH"
      },
      "execution_count": 3,
      "outputs": []
    },
    {
      "cell_type": "code",
      "source": [
        "# Decision Tree Regression\n",
        "\n",
        "decision_tree_model = Pipeline([('preprocessor', preprocessor), ('regressor', DecisionTreeRegressor(random_state=63))])\n",
        "decision_tree_model.fit(x_train, y_train)\n",
        "y_pred_decision_tree = decision_tree_model.predict(x_test)\n",
        "mse_decision_tree = mean_squared_error(y_test, y_pred_decision_tree)"
      ],
      "metadata": {
        "id": "oD_vOFZqvCRn"
      },
      "execution_count": 4,
      "outputs": []
    },
    {
      "cell_type": "code",
      "source": [
        "# Random Forest Regression\n",
        "\n",
        "random_forest_model = Pipeline([('preprocessor', preprocessor), ('regressor', RandomForestRegressor(random_state=27))])\n",
        "random_forest_model.fit(x_train, y_train)\n",
        "y_pred_random_forest = random_forest_model.predict(x_test)\n",
        "mse_random_forest = mean_squared_error(y_test, y_pred_random_forest)"
      ],
      "metadata": {
        "id": "hl5scf4yvB-Q"
      },
      "execution_count": 5,
      "outputs": []
    },
    {
      "cell_type": "markdown",
      "source": [
        "# Model Evaluation\n",
        "\n"
      ],
      "metadata": {
        "id": "YVtGX9Ts5FWU"
      }
    },
    {
      "cell_type": "code",
      "source": [
        "print(\"Mean Squared Error for Linear Regression:\", mse_linear_regression)\n",
        "print(\"Mean Squared Error for Decision Tree:\", mse_decision_tree)\n",
        "print(\"Mean Squared Error for Random Forest:\", mse_random_forest)"
      ],
      "metadata": {
        "colab": {
          "base_uri": "https://localhost:8080/"
        },
        "id": "nsJCB3C85E1f",
        "outputId": "ed6e9ff8-b754-4c2a-83f8-691b411d1cfd"
      },
      "execution_count": 6,
      "outputs": [
        {
          "output_type": "stream",
          "name": "stdout",
          "text": [
            "Mean Squared Error for Linear Regression: 37301617.66042273\n",
            "Mean Squared Error for Decision Tree: 12823695.01628021\n",
            "Mean Squared Error for Random Forest: 8186097.674158215\n"
          ]
        }
      ]
    },
    {
      "cell_type": "code",
      "source": [
        "# Feature Importances on random_forest_model\n",
        "\n",
        "one_hot_feature_names = random_forest_model.named_steps['preprocessor'].named_transformers_['cat'].get_feature_names_out(input_features=categorical_features)\n",
        "all_feature_names = numeric_features + list(one_hot_feature_names)\n",
        "feature_importances = random_forest_model.named_steps['regressor'].feature_importances_\n",
        "importance_df = pd.DataFrame({'Feature': all_feature_names, 'Importance': feature_importances})\n",
        "importance_df.sort_values(by='Importance', ascending=False, inplace=True)\n",
        "\n",
        "print(importance_df)"
      ],
      "metadata": {
        "colab": {
          "base_uri": "https://localhost:8080/"
        },
        "id": "nYuaJswhWxrv",
        "outputId": "23a31650-6a01-4641-b722-bfb11e0675b3"
      },
      "execution_count": 7,
      "outputs": [
        {
          "output_type": "stream",
          "name": "stdout",
          "text": [
            "             Feature  Importance\n",
            "5          smoker_no    0.474566\n",
            "1                bmi    0.209679\n",
            "6         smoker_yes    0.151409\n",
            "0                age    0.125331\n",
            "2           children    0.016016\n",
            "8   region_northwest    0.005432\n",
            "7   region_northeast    0.004724\n",
            "9   region_southeast    0.003675\n",
            "10  region_southwest    0.003170\n",
            "3         sex_female    0.003131\n",
            "4           sex_male    0.002867\n"
          ]
        }
      ]
    },
    {
      "cell_type": "code",
      "source": [
        "for num_feat in numeric_features:\n",
        "  row = importance_df[importance_df['Feature'] == num_feat]\n",
        "  print(f\"{num_feat}'s importance in making predictions: {np.round(float(row.iloc[:,1])*100, 2)}%\")\n",
        "\n",
        "for cat_feat in categorical_features:\n",
        "  cat_sum = np.sum(importance_df[importance_df['Feature'].str.startswith(cat_feat)].groupby('Feature')['Importance'].sum())\n",
        "  print(f\"{cat_feat}'s importance in making predictions: {np.round(cat_sum*100, 2)}%\")"
      ],
      "metadata": {
        "colab": {
          "base_uri": "https://localhost:8080/"
        },
        "id": "6L2gXo0CcjxN",
        "outputId": "d8abdb59-51c9-41ca-f57e-f95445e3fd3b"
      },
      "execution_count": 8,
      "outputs": [
        {
          "output_type": "stream",
          "name": "stdout",
          "text": [
            "age's importance in making predictions: 12.53%\n",
            "bmi's importance in making predictions: 20.97%\n",
            "children's importance in making predictions: 1.6%\n",
            "sex's importance in making predictions: 0.6%\n",
            "smoker's importance in making predictions: 62.6%\n",
            "region's importance in making predictions: 1.7%\n"
          ]
        }
      ]
    }
  ]
}