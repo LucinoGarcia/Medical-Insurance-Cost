{
  "nbformat": 4,
  "nbformat_minor": 0,
  "metadata": {
    "colab": {
      "provenance": []
    },
    "kernelspec": {
      "name": "python3",
      "display_name": "Python 3"
    },
    "language_info": {
      "name": "python"
    }
  },
  "cells": [
    {
      "cell_type": "code",
      "execution_count": 24,
      "metadata": {
        "colab": {
          "base_uri": "https://localhost:8080/"
        },
        "id": "R2_P7oZ4CmmV",
        "outputId": "bf9111b1-8d4b-4fff-980d-85fda8d3fd59"
      },
      "outputs": [
        {
          "output_type": "stream",
          "name": "stdout",
          "text": [
            "Drive already mounted at /content/drive; to attempt to forcibly remount, call drive.mount(\"/content/drive\", force_remount=True).\n"
          ]
        }
      ],
      "source": [
        "import pandas as pd\n",
        "import numpy as np\n",
        "import matplotlib.pyplot as plt\n",
        "import seaborn as sns\n",
        "\n",
        "from sklearn.model_selection import train_test_split\n",
        "from sklearn.linear_model import LinearRegression\n",
        "from sklearn.tree import DecisionTreeRegressor\n",
        "from sklearn.ensemble import RandomForestRegressor\n",
        "from sklearn.compose import ColumnTransformer\n",
        "from sklearn.preprocessing import OneHotEncoder\n",
        "from sklearn.pipeline import Pipeline\n",
        "from sklearn.metrics import mean_squared_error, r2_score\n",
        "\n",
        "import warnings\n",
        "warnings.simplefilter(action='ignore', category=FutureWarning)\n",
        "from google.colab import drive\n",
        "drive.mount('/content/drive')"
      ]
    },
    {
      "cell_type": "markdown",
      "source": [
        "# Model Creation"
      ],
      "metadata": {
        "id": "chxEnA2Y5bnj"
      }
    },
    {
      "cell_type": "code",
      "source": [
        "RawData = pd.read_csv(\"/content/drive/MyDrive/Medical Insurance Cost/medical_insurance.csv\")\n",
        "y = RawData['charges']\n",
        "x = RawData.drop(columns=['charges'])\n",
        "\n",
        "x_train, x_test, y_train, y_test = train_test_split(x, y, test_size=0.2, random_state=125)\n",
        "\n",
        "numeric_features = ['age', 'bmi', 'children']\n",
        "categorical_features = ['sex', 'smoker', 'region']\n",
        "\n",
        "preprocessor = ColumnTransformer(\n",
        "    transformers=[('num', 'passthrough', numeric_features), ('cat', OneHotEncoder(), categorical_features)])"
      ],
      "metadata": {
        "id": "ub81MoKZtn0N"
      },
      "execution_count": 3,
      "outputs": []
    },
    {
      "cell_type": "code",
      "source": [
        "# Linear Regression\n",
        "\n",
        "linear_regression_model = Pipeline([('preprocessor', preprocessor), ('regressor', LinearRegression())])\n",
        "linear_regression_model.fit(x_train, y_train)\n",
        "y_pred_linear_regression = linear_regression_model.predict(x_test)\n",
        "mse_linear_regression = mean_squared_error(y_test, y_pred_linear_regression)"
      ],
      "metadata": {
        "id": "hXxlVTgpuwaH"
      },
      "execution_count": 7,
      "outputs": []
    },
    {
      "cell_type": "code",
      "source": [
        "# Decision Tree Regression\n",
        "\n",
        "decision_tree_model = Pipeline([('preprocessor', preprocessor), ('regressor', DecisionTreeRegressor(random_state=63))])\n",
        "decision_tree_model.fit(x_train, y_train)\n",
        "y_pred_decision_tree = decision_tree_model.predict(x_test)\n",
        "mse_decision_tree = mean_squared_error(y_test, y_pred_decision_tree)"
      ],
      "metadata": {
        "id": "oD_vOFZqvCRn"
      },
      "execution_count": 8,
      "outputs": []
    },
    {
      "cell_type": "code",
      "source": [
        "# Random Forest Regression\n",
        "\n",
        "random_forest_model = Pipeline([('preprocessor', preprocessor), ('regressor', RandomForestRegressor(random_state=27))])\n",
        "random_forest_model.fit(x_train, y_train)\n",
        "y_pred_random_forest = random_forest_model.predict(x_test)\n",
        "mse_random_forest = mean_squared_error(y_test, y_pred_random_forest)"
      ],
      "metadata": {
        "id": "hl5scf4yvB-Q"
      },
      "execution_count": 9,
      "outputs": []
    },
    {
      "cell_type": "markdown",
      "source": [
        "# Model Evaluation\n",
        "\n"
      ],
      "metadata": {
        "id": "YVtGX9Ts5FWU"
      }
    },
    {
      "cell_type": "code",
      "source": [
        "All_3_Preds = [y_pred_linear_regression, y_pred_decision_tree, y_pred_random_forest]\n",
        "Model_Names = ['Linear Regression', 'Decision Tree', 'Random Forest']\n",
        "\n",
        "for model_num in range(len(All_3_Preds)):\n",
        "  print(f\"Mean Squared Error for {Model_Names[model_num]}:\", np.round(mean_squared_error(y_test, All_3_Preds[model_num])))\n",
        "  print(f\"R Squared value for {Model_Names[model_num]}: {np.round(r2_score(y_test, All_3_Preds[model_num]), 2)}\\n\")"
      ],
      "metadata": {
        "colab": {
          "base_uri": "https://localhost:8080/"
        },
        "id": "2dd_6fdbi0yB",
        "outputId": "48d9a4f0-3904-4676-8a62-92438907daa3"
      },
      "execution_count": 28,
      "outputs": [
        {
          "output_type": "stream",
          "name": "stdout",
          "text": [
            "Mean Squared Error for Linear Regression: 37301618.0\n",
            "R Squared value for Linear Regression: 0.73\n",
            "\n",
            "Mean Squared Error for Decision Tree: 12823695.0\n",
            "R Squared value for Decision Tree: 0.91\n",
            "\n",
            "Mean Squared Error for Random Forest: 8186098.0\n",
            "R Squared value for Random Forest: 0.94\n",
            "\n"
          ]
        }
      ]
    },
    {
      "cell_type": "code",
      "source": [
        "# Feature Importances on random_forest_model\n",
        "\n",
        "one_hot_feature_names = random_forest_model.named_steps['preprocessor'].named_transformers_['cat'].get_feature_names_out(input_features=categorical_features)\n",
        "all_feature_names = numeric_features + list(one_hot_feature_names)\n",
        "feature_importances = random_forest_model.named_steps['regressor'].feature_importances_\n",
        "importance_df = pd.DataFrame({'Feature': all_feature_names, 'Importance': feature_importances})\n",
        "importance_df.sort_values(by='Importance', ascending=False, inplace=True)\n",
        "\n",
        "\n",
        "for num_feat in numeric_features:\n",
        "  row = importance_df[importance_df['Feature'] == num_feat]\n",
        "  print(f\"{num_feat}'s importance in making predictions: {np.round(float(row.iloc[:,1])*100, 2)}%\")\n",
        "\n",
        "for cat_feat in categorical_features:\n",
        "  cat_sum = np.sum(importance_df[importance_df['Feature'].str.startswith(cat_feat)].groupby('Feature')['Importance'].sum())\n",
        "  print(f\"{cat_feat}'s importance in making predictions: {np.round(cat_sum*100, 2)}%\")"
      ],
      "metadata": {
        "colab": {
          "base_uri": "https://localhost:8080/"
        },
        "id": "nYuaJswhWxrv",
        "outputId": "769539a6-92ef-4106-d4b6-e1b0a7a2cdb9"
      },
      "execution_count": 26,
      "outputs": [
        {
          "output_type": "stream",
          "name": "stdout",
          "text": [
            "age's importance in making predictions: 12.53%\n",
            "bmi's importance in making predictions: 20.97%\n",
            "children's importance in making predictions: 1.6%\n",
            "sex's importance in making predictions: 0.6%\n",
            "smoker's importance in making predictions: 62.6%\n",
            "region's importance in making predictions: 1.7%\n"
          ]
        }
      ]
    }
  ]
}